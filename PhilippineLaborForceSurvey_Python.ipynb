{
  "nbformat": 4,
  "nbformat_minor": 0,
  "metadata": {
    "colab": {
      "provenance": []
    },
    "kernelspec": {
      "name": "python3",
      "display_name": "Python 3"
    },
    "language_info": {
      "name": "python"
    }
  },
  "cells": [
    {
      "cell_type": "code",
      "execution_count": 1,
      "metadata": {
        "id": "casZTJPdkU3V"
      },
      "outputs": [],
      "source": [
        "import pandas as pd\n",
        "import seaborn as sns\n",
        "import matplotlib.pyplot as plt\n",
        "import numpy as np"
      ]
    },
    {
      "cell_type": "code",
      "source": [
        "##Importing the csv\n",
        "\n",
        "df = pd.read_csv(\"/content/drive/MyDrive/Colab Notebooks/Labor Force/Labor Force Survey.csv\")"
      ],
      "metadata": {
        "id": "ZDwa2XGjlkDd"
      },
      "execution_count": 2,
      "outputs": []
    },
    {
      "cell_type": "code",
      "source": [
        "##checking the dataframe itself\n",
        "\n",
        "df"
      ],
      "metadata": {
        "id": "dX5DxTL4mHC0"
      },
      "execution_count": null,
      "outputs": []
    },
    {
      "cell_type": "code",
      "source": [
        "##check for null values\n",
        "\n",
        "df.info()"
      ],
      "metadata": {
        "id": "IWooOzJilpul"
      },
      "execution_count": null,
      "outputs": []
    },
    {
      "cell_type": "code",
      "source": [
        "##Checking for wrong data types.\n",
        "\n",
        "df.describe()\n",
        "\n",
        "##Note that the Rate Columns were casted as objects rather than numeric data types"
      ],
      "metadata": {
        "id": "XsF7PMLImDMV"
      },
      "execution_count": null,
      "outputs": []
    },
    {
      "cell_type": "code",
      "source": [
        "##After investigating, it turned out that the record for 2021 was the problem.\n",
        "##The record for 2021 does not have any recorded value. Most likely due to the COVID pandemic.\n",
        "\n",
        "df.loc[df['Labor Force Participation Rate'] == '..']"
      ],
      "metadata": {
        "id": "37al4H2gnRel"
      },
      "execution_count": null,
      "outputs": []
    },
    {
      "cell_type": "code",
      "source": [
        "\n",
        "##Dropping the only row with nonexistent values\n",
        "newdf = df.drop(df.index[4])\n",
        "\n",
        "##Changing column types from objects to numerics\n",
        "newdf['Labor Force Participation Rate'] = pd.to_numeric(newdf['Labor Force Participation Rate'])\n",
        "newdf['Employment Rate'] = pd.to_numeric(newdf['Employment Rate'])\n",
        "newdf['Unemployment Rate'] = pd.to_numeric(newdf['Unemployment Rate'])\n",
        "newdf['Underemployment Rate'] = pd.to_numeric(newdf['Underemployment Rate'])\n",
        "newdf['Visible Underemployment Rate'] = pd.to_numeric(newdf['Visible Underemployment Rate'])\n",
        "\n",
        "newdf.info()"
      ],
      "metadata": {
        "id": "--ru3JLIoe-8"
      },
      "execution_count": null,
      "outputs": []
    },
    {
      "cell_type": "code",
      "source": [
        "##Overall averages of the datasets over the year.\n",
        "\n",
        "newdf.groupby('Year').agg('mean')"
      ],
      "metadata": {
        "id": "nmEgOCytpFU8"
      },
      "execution_count": null,
      "outputs": []
    },
    {
      "cell_type": "code",
      "source": [
        "##CREATING A LINE GRAPH FOR THE AVERAGE LABOR FORCE PARTICIPATION RATE OVER THE YEARS\n",
        "plt.figure(figsize=(18,5))\n",
        "\n",
        "##Storing the mean Labor Participation Rate per year\n",
        "lfpr = newdf.groupby('Year').agg('mean')['Labor Force Participation Rate'].to_frame()\n",
        "\n",
        "##Settting up the line graph\n",
        "sns.set_theme()\n",
        "linechart = sns.lineplot(x = 'Year', y = 'Labor Force Participation Rate', data = lfpr, dashes = True)\n",
        "\n",
        "##Customize the chart\n",
        "linechart.set_title(\"Labor Force Participation decreased over the years.\", fontdict={'fontsize' : 18})\n",
        "\n",
        "plt.show()"
      ],
      "metadata": {
        "id": "HBQ0LG6Uqp7z"
      },
      "execution_count": null,
      "outputs": []
    },
    {
      "cell_type": "code",
      "source": [
        "##Creating the triangular correlation heat map\n",
        "\n",
        "##Set up dataframe with no year\n",
        "dfvalues = newdf.drop('Year', axis = 1)\n",
        "plt.figure(figsize=(10,10))\n",
        "\n",
        "\n",
        "##Set up mask\n",
        "mask = np.triu(np.ones_like(dfvalues.corr()))\n",
        "\n",
        "\n",
        "##et up correlation heatmap.\n",
        "corrheat = sns.heatmap(dfvalues.corr(), annot = True, mask=mask)\n",
        "\n",
        "\n",
        "##customizing the chart\n",
        "corrheat.set_title('Correlation between the variables', fontdict = {'fontsize':25});\n",
        "\n",
        "##Save the figure\n",
        "plt.savefig('corrheat.png')"
      ],
      "metadata": {
        "id": "1di4kbEdATx9"
      },
      "execution_count": null,
      "outputs": []
    },
    {
      "cell_type": "code",
      "source": [
        "##Creating a line graph for the Labor Force Participation Rate and Employment Rate\n",
        "\n",
        "plt.figure(figsize=(20,10))\n",
        "\n",
        "sns.set_style('white')\n",
        "\n",
        "lfpr = newdf.groupby('Year').agg('mean')['Labor Force Participation Rate'].to_frame()\n",
        "empr = newdf.groupby('Year').agg('mean')['Employment Rate'].to_frame()\n",
        "\n",
        "plt.plot(lfpr.index, lfpr, marker='v')\n",
        "plt.plot(lfpr.index, empr, marker='o')\n",
        "plt.xlabel('Years')\n",
        "plt.ylabel('Rate')\n",
        "plt.legend(['Labor Force Participation Rate', 'Employment Rate'])\n",
        "plt.title('Labor Force Participation Rate vs. Employment Rate over the years')\n",
        "sns.despine(left=True,bottom=True)\n",
        "\n",
        "plt.show();"
      ],
      "metadata": {
        "id": "ixHcMCyUYQYG"
      },
      "execution_count": null,
      "outputs": []
    }
  ]
}